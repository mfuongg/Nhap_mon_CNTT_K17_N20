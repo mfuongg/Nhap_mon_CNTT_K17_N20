{
  "nbformat": 4,
  "nbformat_minor": 0,
  "metadata": {
    "colab": {
      "provenance": []
    },
    "kernelspec": {
      "name": "python3",
      "display_name": "Python 3"
    },
    "language_info": {
      "name": "python"
    }
  },
  "cells": [
    {
      "cell_type": "markdown",
      "source": [
        "Bài E"
      ],
      "metadata": {
        "id": "ZEMIIEEBhwZM"
      }
    },
    {
      "cell_type": "code",
      "source": [
        "n=int(input())\n",
        "print(n)"
      ],
      "metadata": {
        "colab": {
          "base_uri": "https://localhost:8080/"
        },
        "id": "yTuVQ2HeiADl",
        "outputId": "b17bb742-af8a-45e2-82a3-8175d62feac3"
      },
      "execution_count": null,
      "outputs": [
        {
          "output_type": "stream",
          "name": "stdout",
          "text": [
            "698\n",
            "698\n"
          ]
        }
      ]
    },
    {
      "cell_type": "markdown",
      "source": [
        "Bài F"
      ],
      "metadata": {
        "id": "DUbrNLL_AT3_"
      }
    },
    {
      "cell_type": "code",
      "source": [
        "n=int(input())\n",
        "m=int(input())\n",
        "print(n//m)"
      ],
      "metadata": {
        "colab": {
          "base_uri": "https://localhost:8080/"
        },
        "id": "AmbX4CwzArVv",
        "outputId": "1ff3fb24-f1bf-4e72-e57b-c4090e3e1d30"
      },
      "execution_count": null,
      "outputs": [
        {
          "output_type": "stream",
          "name": "stdout",
          "text": [
            "2064\n",
            "4\n",
            "516\n"
          ]
        }
      ]
    },
    {
      "cell_type": "markdown",
      "source": [
        "Bài G"
      ],
      "metadata": {
        "id": "ct4vd8TXBaVQ"
      }
    },
    {
      "cell_type": "code",
      "source": [
        "import math\n",
        "n=int(input())\n",
        "m=math.sqrt(n)\n",
        "print('%0.3f'%m)"
      ],
      "metadata": {
        "colab": {
          "base_uri": "https://localhost:8080/"
        },
        "id": "XNCNM0F_BeS1",
        "outputId": "82ae3008-13f9-44a0-d789-59a714382f39"
      },
      "execution_count": null,
      "outputs": [
        {
          "output_type": "stream",
          "name": "stdout",
          "text": [
            "344\n",
            "18.547\n"
          ]
        }
      ]
    },
    {
      "cell_type": "markdown",
      "source": [
        "Bài D"
      ],
      "metadata": {
        "id": "TM3MTBHDCvNf"
      }
    },
    {
      "cell_type": "code",
      "source": [
        "n=int(input())\n",
        "m=int(input())\n",
        "c=n%m\n",
        "print(c)"
      ],
      "metadata": {
        "colab": {
          "base_uri": "https://localhost:8080/"
        },
        "id": "y553eOiEC1M4",
        "outputId": "98bce7ca-da3c-4ac7-c27d-3412d0ff80b1"
      },
      "execution_count": null,
      "outputs": [
        {
          "output_type": "stream",
          "name": "stdout",
          "text": [
            "2064\n",
            "4\n",
            "0\n"
          ]
        }
      ]
    },
    {
      "cell_type": "markdown",
      "source": [
        "Bài A"
      ],
      "metadata": {
        "id": "jGOWDeauDUfP"
      }
    },
    {
      "cell_type": "markdown",
      "source": [],
      "metadata": {
        "id": "Uuou8WwnCxVd"
      }
    },
    {
      "cell_type": "code",
      "source": [
        "a=float(input())\n",
        "b=float(input())\n",
        "\n",
        "if a == 0 and b == 0:\n",
        "  print(\"vo so nghiem\")\n",
        "elif a == 0 and b != 0:\n",
        "    print(\"vo nghiem\")\n",
        "else:\n",
        "      print(\"{:.3f}\".format(-b/a))\n",
        "\n"
      ],
      "metadata": {
        "colab": {
          "base_uri": "https://localhost:8080/"
        },
        "id": "hGHO8LHPDg89",
        "outputId": "efa5c1f8-6c3b-4940-ad58-531d3897d951"
      },
      "execution_count": null,
      "outputs": [
        {
          "output_type": "stream",
          "name": "stdout",
          "text": [
            "226.928\n",
            "214.380\n",
            "-0.945\n"
          ]
        }
      ]
    },
    {
      "cell_type": "markdown",
      "source": [
        "Bài B"
      ],
      "metadata": {
        "id": "tY6rW_Q3YNgi"
      }
    },
    {
      "cell_type": "code",
      "source": [
        "import math\n",
        "x = float(input())\n",
        "\n",
        "print(\"{:.3f}\".format(math.cos(x)), end=\" \")\n",
        "print(\"{:.3f}\".format(math.sin(x)), end=\" \")\n",
        "print(\"{:.3f}\".format(math.tan(x)), end=\" \")\n",
        "print(\"{:.3f}\".format(math.cos(x) / math.sin(x)))\n"
      ],
      "metadata": {
        "colab": {
          "base_uri": "https://localhost:8080/"
        },
        "id": "qVDKlLr4auSA",
        "outputId": "6314831f-fce2-4340-bbdf-8dce732bb185"
      },
      "execution_count": null,
      "outputs": [
        {
          "output_type": "stream",
          "name": "stdout",
          "text": [
            "0.39269908169872414\n",
            "0.924 0.383 0.414 2.414\n"
          ]
        }
      ]
    },
    {
      "cell_type": "markdown",
      "source": [
        "Bài C"
      ],
      "metadata": {
        "id": "OQq8HPD4egJ-"
      }
    },
    {
      "cell_type": "code",
      "source": [
        "import math\n",
        "a = float(input())\n",
        "\n",
        "print(\"{:.3f}\".format(math.exp(a)), end=\" \")\n",
        "print(\"{:.3f}\".format(math.log(a)), end=\" \")\n",
        "print(\"{:.3f}\".format(math.log10(a)), end=\" \")\n",
        "print(\"{:.3f}\".format(math.log2(a)))"
      ],
      "metadata": {
        "colab": {
          "base_uri": "https://localhost:8080/"
        },
        "id": "EEKBm4rzeqkI",
        "outputId": "1e12ab3a-2cf8-4651-c5db-3726cdd433fa"
      },
      "execution_count": null,
      "outputs": [
        {
          "output_type": "stream",
          "name": "stdout",
          "text": [
            "8\n",
            "2980.958 2.079 0.903 3.000\n"
          ]
        }
      ]
    },
    {
      "cell_type": "markdown",
      "source": [
        "Bài H"
      ],
      "metadata": {
        "id": "s-0wNODOflat"
      }
    },
    {
      "cell_type": "code",
      "source": [
        "a = int(input())\n",
        "if a % 2 == 0:\n",
        "  print(\"YES\")\n",
        "else:\n",
        "  print(\"NO\")"
      ],
      "metadata": {
        "colab": {
          "base_uri": "https://localhost:8080/"
        },
        "id": "SJfraWMaf3Oo",
        "outputId": "a0c9a7f8-0d7c-44a3-d375-8f38621de2e5"
      },
      "execution_count": null,
      "outputs": [
        {
          "output_type": "stream",
          "name": "stdout",
          "text": [
            "588\n",
            "YES\n"
          ]
        }
      ]
    },
    {
      "cell_type": "markdown",
      "source": [
        "Bài I"
      ],
      "metadata": {
        "id": "cG5ygVLLpVVc"
      }
    },
    {
      "cell_type": "code",
      "source": [
        "n = int(input())\n",
        "\n",
        "if n >= 0 and int(n ** 0.5) ** 2 == n:\n",
        "  print(\"YES\")\n",
        "else:\n",
        "  print(\"NO\")"
      ],
      "metadata": {
        "colab": {
          "base_uri": "https://localhost:8080/"
        },
        "id": "-KiZBbMSpXY7",
        "outputId": "8900fd25-ff09-4b2a-c711-4e17296d0b88"
      },
      "execution_count": null,
      "outputs": [
        {
          "output_type": "stream",
          "name": "stdout",
          "text": [
            "495\n",
            "NO\n"
          ]
        }
      ]
    }
  ]
}