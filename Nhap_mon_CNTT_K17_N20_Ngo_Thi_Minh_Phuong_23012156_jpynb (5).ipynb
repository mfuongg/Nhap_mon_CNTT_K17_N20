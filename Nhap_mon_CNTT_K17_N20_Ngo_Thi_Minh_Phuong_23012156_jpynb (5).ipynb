{
  "nbformat": 4,
  "nbformat_minor": 0,
  "metadata": {
    "colab": {
      "provenance": []
    },
    "kernelspec": {
      "name": "python3",
      "display_name": "Python 3"
    },
    "language_info": {
      "name": "python"
    }
  },
  "cells": [
    {
      "cell_type": "code",
      "source": [
        "for i in range(15):\n",
        "  print(i)"
      ],
      "metadata": {
        "colab": {
          "base_uri": "https://localhost:8080/"
        },
        "id": "eneAciPU6Y3Z",
        "outputId": "54ff06eb-0466-42a8-f575-41663aae93f8"
      },
      "execution_count": null,
      "outputs": [
        {
          "output_type": "stream",
          "name": "stdout",
          "text": [
            "0\n",
            "1\n",
            "2\n",
            "3\n",
            "4\n",
            "5\n",
            "6\n",
            "7\n",
            "8\n",
            "9\n",
            "10\n",
            "11\n",
            "12\n",
            "13\n",
            "14\n"
          ]
        }
      ]
    },
    {
      "cell_type": "code",
      "source": [
        "n = 0\n",
        "while n**4 + n**3 + n**2 -1 <100:\n",
        "  n=n+1\n",
        "  print(n-1)"
      ],
      "metadata": {
        "colab": {
          "base_uri": "https://localhost:8080/"
        },
        "id": "kBSQAKYX6eKJ",
        "outputId": "72212157-d9e5-487d-b458-a8686ec4bf92"
      },
      "execution_count": null,
      "outputs": [
        {
          "output_type": "stream",
          "name": "stdout",
          "text": [
            "0\n",
            "1\n",
            "2\n"
          ]
        }
      ]
    },
    {
      "cell_type": "code",
      "source": [
        "i=0\n",
        "while i<11:\n",
        " print(i)\n",
        " i=i+1"
      ],
      "metadata": {
        "colab": {
          "base_uri": "https://localhost:8080/"
        },
        "id": "WxN3CsDS8Djx",
        "outputId": "8dca0043-1171-4bb1-cff0-0ebf7425056b"
      },
      "execution_count": null,
      "outputs": [
        {
          "output_type": "stream",
          "name": "stdout",
          "text": [
            "0\n",
            "1\n",
            "2\n",
            "3\n",
            "4\n",
            "5\n",
            "6\n",
            "7\n",
            "8\n",
            "9\n",
            "10\n"
          ]
        }
      ]
    },
    {
      "cell_type": "code",
      "source": [
        "n1, n2= map(int, input().split())\n",
        "count =0\n",
        "ket_qua=[]\n",
        "n=0\n",
        "while n <= n2:\n",
        "  if n1 <= n**2-100*n+1 <= n2:\n",
        "   ket_qua.append(n)\n",
        "   count +=1\n",
        "  n +=1\n",
        "\n",
        "if count >0:\n",
        "  print(count)\n",
        "  print(*ket_qua)\n",
        "else:\n",
        "  print(\"vo nghiem\")"
      ],
      "metadata": {
        "colab": {
          "base_uri": "https://localhost:8080/"
        },
        "id": "CBk9mTd3GKA6",
        "outputId": "200de13f-28d0-460e-c3e5-0a015a133c3c"
      },
      "execution_count": 21,
      "outputs": [
        {
          "output_type": "stream",
          "name": "stdout",
          "text": [
            "0 100\n",
            "2\n",
            "0 100\n"
          ]
        }
      ]
    },
    {
      "cell_type": "code",
      "source": [
        "def find_N(M):\n",
        "    if M <= 0:\n",
        "      return(\"Vo nghiem\")\n",
        "    sum = 0\n",
        "    N = 0\n",
        "    while sum <= M:\n",
        "        sum += 1/N\n",
        "        if sum > M:\n",
        "            return N - 1\n",
        "        N += 1\n",
        "\n",
        "M = float(input())\n",
        "if N == 0:\n",
        "    print(\"NULL\")\n",
        "else:\n",
        "    print(find_N(M))"
      ],
      "metadata": {
        "id": "xVWx1RXSO4D_"
      },
      "execution_count": null,
      "outputs": []
    },
    {
      "cell_type": "code",
      "source": [
        "A=[]\n",
        "m, n = map(int, input().split())\n",
        "for i in range(m):\n",
        "  hang_i=list(map(int,input().split()))\n",
        "  A.append(hang_i)\n",
        "for i in range(m):\n",
        " for j in range(n):\n",
        "  if j!=n-1:\n",
        "    print(A[i][j], end=' ')\n",
        "  else:\n",
        "    print(A[i][j])"
      ],
      "metadata": {
        "id": "ygdOeESvV2HO"
      },
      "execution_count": null,
      "outputs": []
    }
  ]
}